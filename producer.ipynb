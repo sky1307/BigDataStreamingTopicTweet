{
 "cells": [
  {
   "cell_type": "code",
   "execution_count": 1,
   "id": "eeced414",
   "metadata": {},
   "outputs": [],
   "source": [
    "from pykafka import KafkaClient\n",
    "import json\n",
    "import tweepy"
   ]
  },
  {
   "cell_type": "code",
   "execution_count": 2,
   "id": "6e2ea2e3",
   "metadata": {},
   "outputs": [],
   "source": [
    "client = KafkaClient(hosts=\"127.0.0.1:9092\")\n",
    "topic = client.topics[bytes('tweet', encoding='utf-8')]\n",
    "producer = topic.get_producer()"
   ]
  },
  {
   "cell_type": "code",
   "execution_count": 3,
   "id": "babb7878",
   "metadata": {},
   "outputs": [],
   "source": [
    "%run ./TWITTER_API_KEY.ipynb"
   ]
  },
  {
   "cell_type": "code",
   "execution_count": 4,
   "id": "59cfd3b3",
   "metadata": {},
   "outputs": [],
   "source": [
    "class TweetAPI(tweepy.Stream):\n",
    "    def on_status(self, status):\n",
    "        text = ''\n",
    "        try:\n",
    "            try:\n",
    "                text = status.extended_tweet['full_text']\n",
    "            except:\n",
    "                text = status.text\n",
    "            msg = json.dumps({'text': text})\n",
    "            producer.produce(bytes(msg, encoding='utf-8'))\n",
    "        except:\n",
    "            print(\"Error\")\n",
    "            print('-----------------------------------------------------')"
   ]
  },
  {
   "cell_type": "code",
   "execution_count": null,
   "id": "1c4c5dce",
   "metadata": {},
   "outputs": [],
   "source": [
    "Tweets = TweetAPI(\n",
    "  CONSUMER_KEY, CONSUMER_SECRET,\n",
    "  ACCESS_TOKEN, ACCESS_SECRET\n",
    ")\n",
    "Tweets.filter(track=[\"#\"], languages = ['en'])"
   ]
  }
 ],
 "metadata": {
  "kernelspec": {
   "display_name": "Python 3 (ipykernel)",
   "language": "python",
   "name": "python3"
  },
  "language_info": {
   "codemirror_mode": {
    "name": "ipython",
    "version": 3
   },
   "file_extension": ".py",
   "mimetype": "text/x-python",
   "name": "python",
   "nbconvert_exporter": "python",
   "pygments_lexer": "ipython3",
   "version": "3.7.11"
  }
 },
 "nbformat": 4,
 "nbformat_minor": 5
}
